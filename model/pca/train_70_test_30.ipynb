{
 "cells": [
  {
   "cell_type": "code",
   "execution_count": null,
   "id": "120ee19a",
   "metadata": {},
   "outputs": [],
   "source": [
    "from sklearn.linear_model import LogisticRegression\n",
    "from sklearn.neighbors import KNeighborsClassifier\n",
    "from sklearn.metrics import classification_report, confusion_matrix, accuracy_score\n",
    "from sklearn.metrics import ConfusionMatrixDisplay\n",
    "from sklearn.model_selection import train_test_split\n",
    "from sklearn.preprocessing import StandardScaler\n",
    "\n",
    "import pandas as pd"
   ]
  },
  {
   "cell_type": "code",
   "execution_count": null,
   "id": "0ad6a17b",
   "metadata": {},
   "outputs": [],
   "source": [
    "\n",
    "dataPCA = pd.read_csv(r'C:\\Users\\NGUYEN PHUONG BICH\\HOC_TAP\\Machine_Learning\\Project_ML\\data\\data_processed\\data_pca.csv')\n",
    "\n",
    "dataPCA = dataPCA.drop(dataPCA.columns[0], axis=1)\n",
    "\n",
    "data_pca = dataPCA.drop(['Target'], axis = 1)\n",
    "label = dataPCA['Target']\n"
   ]
  },
  {
   "cell_type": "code",
   "execution_count": 6,
   "id": "d9b57a7f",
   "metadata": {},
   "outputs": [],
   "source": [
    "# Chia dữ liệu\n",
    "X_train, X_val, y_train, y_val = train_test_split(data_pca, label, test_size=0.3, random_state=0)"
   ]
  },
  {
   "cell_type": "code",
   "execution_count": 7,
   "id": "96f785de",
   "metadata": {},
   "outputs": [
    {
     "name": "stdout",
     "output_type": "stream",
     "text": [
      "KNN Classifier\n",
      "Train Accuracy: 0.75\n",
      "Train Classification Report:\n",
      "               precision    recall  f1-score   support\n",
      "\n",
      "           0       0.87      0.70      0.78       993\n",
      "           1       0.59      0.25      0.36       561\n",
      "           2       0.72      0.96      0.82      1542\n",
      "\n",
      "    accuracy                           0.75      3096\n",
      "   macro avg       0.73      0.64      0.65      3096\n",
      "weighted avg       0.74      0.75      0.72      3096\n",
      "\n",
      "Validation Accuracy: 0.72\n",
      "Validation Classification Report:\n",
      "               precision    recall  f1-score   support\n",
      "\n",
      "           0       0.80      0.64      0.71       428\n",
      "           1       0.44      0.22      0.29       233\n",
      "           2       0.72      0.94      0.82       667\n",
      "\n",
      "    accuracy                           0.72      1328\n",
      "   macro avg       0.65      0.60      0.61      1328\n",
      "weighted avg       0.70      0.72      0.69      1328\n",
      "\n"
     ]
    }
   ],
   "source": [
    "# Mô hình phân loại KNN\n",
    "knn = KNeighborsClassifier(n_neighbors=15)\n",
    "knn.fit(X_train, y_train)\n",
    "\n",
    "print(\"KNN Classifier\")\n",
    "\n",
    "# Đánh giá trên tập train\n",
    "y_train_pred = knn.predict(X_train)\n",
    "print(\"Train Accuracy:\", round(accuracy_score(y_train, y_train_pred), 2))\n",
    "print(\"Train Classification Report:\\n\", classification_report(y_train, y_train_pred))\n",
    "\n",
    "# Đánh giá trên tập validation\n",
    "y_val_pred = knn.predict(X_val)\n",
    "print(\"Validation Accuracy:\", round(accuracy_score(y_val, y_val_pred), 2))\n",
    "print(\"Validation Classification Report:\\n\", classification_report(y_val, y_val_pred))\n"
   ]
  },
  {
   "cell_type": "code",
   "execution_count": 8,
   "id": "332384cf",
   "metadata": {},
   "outputs": [
    {
     "name": "stdout",
     "output_type": "stream",
     "text": [
      "Logistic Regression Classifier\n",
      "Train Accuracy: 0.75\n",
      "Train Classification Report:\n",
      "               precision    recall  f1-score   support\n",
      "\n",
      "           0       0.77      0.77      0.77       993\n",
      "           1       0.51      0.25      0.34       561\n",
      "           2       0.77      0.91      0.83      1542\n",
      "\n",
      "    accuracy                           0.75      3096\n",
      "   macro avg       0.68      0.64      0.65      3096\n",
      "weighted avg       0.72      0.75      0.72      3096\n",
      "\n",
      "Validation Accuracy: 0.75\n",
      "Validation Classification Report:\n",
      "               precision    recall  f1-score   support\n",
      "\n",
      "           0       0.77      0.77      0.77       428\n",
      "           1       0.52      0.29      0.37       233\n",
      "           2       0.79      0.90      0.84       667\n",
      "\n",
      "    accuracy                           0.75      1328\n",
      "   macro avg       0.69      0.66      0.66      1328\n",
      "weighted avg       0.73      0.75      0.74      1328\n",
      "\n"
     ]
    }
   ],
   "source": [
    "# Softmax regression\n",
    "log_reg = LogisticRegression(max_iter=5000, random_state=0)\n",
    "log_reg.fit(X_train, y_train)\n",
    "\n",
    "print(\"Logistic Regression Classifier\")\n",
    "\n",
    "# Đánh giá trên tập train\n",
    "y_train_pred = log_reg.predict(X_train)\n",
    "print(\"Train Accuracy:\", round(accuracy_score(y_train, y_train_pred), 2))\n",
    "print(\"Train Classification Report:\\n\", classification_report(y_train, y_train_pred))\n",
    "\n",
    "# Đánh giá trên tập validation\n",
    "y_val_pred = log_reg.predict(X_val)\n",
    "print(\"Validation Accuracy:\", round(accuracy_score(y_val, y_val_pred), 2))\n",
    "print(\"Validation Classification Report:\\n\", classification_report(y_val, y_val_pred))"
   ]
  }
 ],
 "metadata": {
  "kernelspec": {
   "display_name": "base",
   "language": "python",
   "name": "python3"
  },
  "language_info": {
   "codemirror_mode": {
    "name": "ipython",
    "version": 3
   },
   "file_extension": ".py",
   "mimetype": "text/x-python",
   "name": "python",
   "nbconvert_exporter": "python",
   "pygments_lexer": "ipython3",
   "version": "3.11.10"
  }
 },
 "nbformat": 4,
 "nbformat_minor": 5
}
