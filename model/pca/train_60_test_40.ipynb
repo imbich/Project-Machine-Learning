{
 "cells": [
  {
   "cell_type": "code",
   "execution_count": 6,
   "id": "12acbf95",
   "metadata": {},
   "outputs": [],
   "source": [
    "from sklearn.linear_model import LogisticRegression\n",
    "from sklearn.neighbors import KNeighborsClassifier\n",
    "from sklearn.metrics import classification_report, confusion_matrix, accuracy_score\n",
    "from sklearn.model_selection import train_test_split\n",
    "\n",
    "import pandas as pd\n"
   ]
  },
  {
   "cell_type": "code",
   "execution_count": 7,
   "id": "c2047497",
   "metadata": {},
   "outputs": [],
   "source": [
    "\n",
    "dataPCA = pd.read_csv('https://raw.githubusercontent.com/imbich/Project-Machine-Learning/refs/heads/main/data/data_processed/data_pca.csv')\n",
    "\n",
    "dataPCA = dataPCA.drop(dataPCA.columns[0], axis=1)\n",
    "\n",
    "data_pca = dataPCA.drop(['Target'], axis = 1)\n",
    "label = dataPCA['Target']\n"
   ]
  },
  {
   "cell_type": "code",
   "execution_count": 8,
   "id": "f4835e40",
   "metadata": {},
   "outputs": [],
   "source": [
    "# Chia dữ liệu\n",
    "X_train, X_val, y_train, y_val = train_test_split(data_pca, label, test_size=0.4, random_state=9)"
   ]
  },
  {
   "cell_type": "code",
   "execution_count": 9,
   "id": "fc8871b7",
   "metadata": {},
   "outputs": [
    {
     "name": "stdout",
     "output_type": "stream",
     "text": [
      "KNN Classifier\n",
      "Train Accuracy: 0.75\n",
      "Train Classification Report:\n",
      "               precision    recall  f1-score   support\n",
      "\n",
      "           0       0.85      0.68      0.76       844\n",
      "           1       0.61      0.29      0.39       463\n",
      "           2       0.73      0.95      0.83      1347\n",
      "\n",
      "    accuracy                           0.75      2654\n",
      "   macro avg       0.73      0.64      0.66      2654\n",
      "weighted avg       0.75      0.75      0.73      2654\n",
      "\n",
      "Validation Accuracy: 0.7\n",
      "Validation Classification Report:\n",
      "               precision    recall  f1-score   support\n",
      "\n",
      "           0       0.82      0.63      0.72       577\n",
      "           1       0.42      0.18      0.25       331\n",
      "           2       0.69      0.95      0.79       862\n",
      "\n",
      "    accuracy                           0.70      1770\n",
      "   macro avg       0.64      0.58      0.59      1770\n",
      "weighted avg       0.68      0.70      0.67      1770\n",
      "\n"
     ]
    }
   ],
   "source": [
    "# Mô hình phân loại KNN\n",
    "knn = KNeighborsClassifier(n_neighbors=15)\n",
    "knn.fit(X_train, y_train)\n",
    "\n",
    "print(\"KNN Classifier\")\n",
    "\n",
    "# Đánh giá trên tập train\n",
    "y_train_pred = knn.predict(X_train)\n",
    "print(\"Train Accuracy:\", round(accuracy_score(y_train, y_train_pred), 2))\n",
    "print(\"Train Classification Report:\\n\", classification_report(y_train, y_train_pred))\n",
    "\n",
    "# Đánh giá trên tập validation\n",
    "y_val_pred = knn.predict(X_val)\n",
    "print(\"Validation Accuracy:\", round(accuracy_score(y_val, y_val_pred), 2))\n",
    "print(\"Validation Classification Report:\\n\", classification_report(y_val, y_val_pred))\n"
   ]
  },
  {
   "cell_type": "code",
   "execution_count": 10,
   "id": "6a73b604",
   "metadata": {},
   "outputs": [
    {
     "name": "stdout",
     "output_type": "stream",
     "text": [
      "Logistic Regression Classifier\n",
      "Train Accuracy: 0.76\n",
      "Train Classification Report:\n",
      "               precision    recall  f1-score   support\n",
      "\n",
      "           0       0.79      0.77      0.78       844\n",
      "           1       0.51      0.28      0.36       463\n",
      "           2       0.78      0.91      0.84      1347\n",
      "\n",
      "    accuracy                           0.76      2654\n",
      "   macro avg       0.69      0.66      0.66      2654\n",
      "weighted avg       0.74      0.76      0.74      2654\n",
      "\n",
      "Validation Accuracy: 0.74\n",
      "Validation Classification Report:\n",
      "               precision    recall  f1-score   support\n",
      "\n",
      "           0       0.77      0.76      0.76       577\n",
      "           1       0.51      0.24      0.33       331\n",
      "           2       0.76      0.92      0.83       862\n",
      "\n",
      "    accuracy                           0.74      1770\n",
      "   macro avg       0.68      0.64      0.64      1770\n",
      "weighted avg       0.71      0.74      0.71      1770\n",
      "\n"
     ]
    }
   ],
   "source": [
    "# Softmax regression\n",
    "log_reg = LogisticRegression(max_iter=5000, random_state=0)\n",
    "log_reg.fit(X_train, y_train)\n",
    "\n",
    "print(\"Logistic Regression Classifier\")\n",
    "\n",
    "# Đánh giá trên tập train\n",
    "y_train_pred = log_reg.predict(X_train)\n",
    "print(\"Train Accuracy:\", round(accuracy_score(y_train, y_train_pred), 2))\n",
    "print(\"Train Classification Report:\\n\", classification_report(y_train, y_train_pred))\n",
    "\n",
    "# Đánh giá trên tập validation\n",
    "y_val_pred = log_reg.predict(X_val)\n",
    "print(\"Validation Accuracy:\", round(accuracy_score(y_val, y_val_pred), 2))\n",
    "print(\"Validation Classification Report:\\n\", classification_report(y_val, y_val_pred))"
   ]
  }
 ],
 "metadata": {
  "kernelspec": {
   "display_name": "base",
   "language": "python",
   "name": "python3"
  },
  "language_info": {
   "codemirror_mode": {
    "name": "ipython",
    "version": 3
   },
   "file_extension": ".py",
   "mimetype": "text/x-python",
   "name": "python",
   "nbconvert_exporter": "python",
   "pygments_lexer": "ipython3",
   "version": "3.11.10"
  }
 },
 "nbformat": 4,
 "nbformat_minor": 5
}
