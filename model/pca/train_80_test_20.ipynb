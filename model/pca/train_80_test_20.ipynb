{
 "cells": [
  {
   "cell_type": "code",
   "execution_count": 11,
   "id": "85f2ebe7",
   "metadata": {},
   "outputs": [],
   "source": [
    "from sklearn.linear_model import LogisticRegression\n",
    "from sklearn.neighbors import KNeighborsClassifier\n",
    "from sklearn.metrics import classification_report, confusion_matrix, accuracy_score\n",
    "from sklearn.metrics import ConfusionMatrixDisplay\n",
    "from sklearn.model_selection import train_test_split\n",
    "from sklearn.preprocessing import StandardScaler\n",
    "\n",
    "import pandas as pd"
   ]
  },
  {
   "cell_type": "code",
   "execution_count": 12,
   "id": "9a78c95d",
   "metadata": {},
   "outputs": [],
   "source": [
    "\n",
    "dataPCA = pd.read_csv(r'C:\\Users\\NGUYEN PHUONG BICH\\HOC_TAP\\Machine_Learning\\Project_ML\\data\\data_processed\\data_pca.csv')\n",
    "\n",
    "dataPCA = dataPCA.drop(dataPCA.columns[0], axis=1)\n",
    "\n",
    "data_pca = dataPCA.drop(['Target'], axis = 1)\n",
    "label = dataPCA['Target']\n"
   ]
  },
  {
   "cell_type": "code",
   "execution_count": 13,
   "id": "d990823e",
   "metadata": {},
   "outputs": [],
   "source": [
    "# chia dữ liệu thành train và test\n",
    "X_train_pca, X_val_pca, y_train, y_val = train_test_split(data_pca, label, test_size=0.2, random_state=42)"
   ]
  },
  {
   "cell_type": "code",
   "execution_count": 14,
   "id": "a46411e8",
   "metadata": {},
   "outputs": [
    {
     "name": "stdout",
     "output_type": "stream",
     "text": [
      "KNN Classifier\n",
      "Train Accuracy: 0.75\n",
      "Train Classification Report:\n",
      "               precision    recall  f1-score   support\n",
      "\n",
      "           0       0.87      0.69      0.77      1105\n",
      "           1       0.59      0.30      0.40       643\n",
      "           2       0.74      0.96      0.83      1791\n",
      "\n",
      "    accuracy                           0.75      3539\n",
      "   macro avg       0.73      0.65      0.67      3539\n",
      "weighted avg       0.75      0.75      0.73      3539\n",
      "\n",
      "Validation Accuracy: 0.72\n",
      "Validation Classification Report:\n",
      "               precision    recall  f1-score   support\n",
      "\n",
      "           0       0.86      0.65      0.74       316\n",
      "           1       0.49      0.23      0.31       151\n",
      "           2       0.69      0.95      0.80       418\n",
      "\n",
      "    accuracy                           0.72       885\n",
      "   macro avg       0.68      0.61      0.61       885\n",
      "weighted avg       0.71      0.72      0.69       885\n",
      "\n"
     ]
    }
   ],
   "source": [
    "# Mô hình phân loại KNN\n",
    "knn = KNeighborsClassifier(n_neighbors=15)\n",
    "knn.fit(X_train_pca, y_train)\n",
    "\n",
    "print(\"KNN Classifier\")\n",
    "\n",
    "# Đánh giá trên tập train\n",
    "y_train_pred = knn.predict(X_train_pca)\n",
    "print(\"Train Accuracy:\", round(accuracy_score(y_train, y_train_pred), 2))\n",
    "print(\"Train Classification Report:\\n\", classification_report(y_train, y_train_pred))\n",
    "\n",
    "# Đánh giá trên tập validation\n",
    "y_val_pred = knn.predict(X_val_pca)\n",
    "print(\"Validation Accuracy:\", round(accuracy_score(y_val, y_val_pred), 2))\n",
    "print(\"Validation Classification Report:\\n\", classification_report(y_val, y_val_pred))\n"
   ]
  },
  {
   "cell_type": "code",
   "execution_count": 15,
   "id": "916ab55c",
   "metadata": {},
   "outputs": [
    {
     "name": "stdout",
     "output_type": "stream",
     "text": [
      "Logistic Regression Classifier\n",
      "Train Accuracy: 0.75\n",
      "Train Classification Report:\n",
      "               precision    recall  f1-score   support\n",
      "\n",
      "           0       0.77      0.76      0.77      1105\n",
      "           1       0.51      0.29      0.37       643\n",
      "           2       0.78      0.91      0.84      1791\n",
      "\n",
      "    accuracy                           0.75      3539\n",
      "   macro avg       0.69      0.65      0.66      3539\n",
      "weighted avg       0.73      0.75      0.73      3539\n",
      "\n",
      "Validation Accuracy: 0.74\n",
      "Validation Classification Report:\n",
      "               precision    recall  f1-score   support\n",
      "\n",
      "           0       0.81      0.76      0.78       316\n",
      "           1       0.51      0.23      0.32       151\n",
      "           2       0.74      0.92      0.82       418\n",
      "\n",
      "    accuracy                           0.74       885\n",
      "   macro avg       0.69      0.64      0.64       885\n",
      "weighted avg       0.73      0.74      0.72       885\n",
      "\n"
     ]
    }
   ],
   "source": [
    "# Softmax regression\n",
    "log_reg = LogisticRegression(max_iter=5000, random_state=0)\n",
    "log_reg.fit(X_train_pca, y_train)\n",
    "\n",
    "print(\"Logistic Regression Classifier\")\n",
    "\n",
    "# Đánh giá trên tập train\n",
    "y_train_pred = log_reg.predict(X_train_pca)\n",
    "print(\"Train Accuracy:\", round(accuracy_score(y_train, y_train_pred), 2))\n",
    "print(\"Train Classification Report:\\n\", classification_report(y_train, y_train_pred))\n",
    "\n",
    "# Đánh giá trên tập validation\n",
    "y_val_pred = log_reg.predict(X_val_pca)\n",
    "print(\"Validation Accuracy:\", round(accuracy_score(y_val, y_val_pred), 2))\n",
    "print(\"Validation Classification Report:\\n\", classification_report(y_val, y_val_pred))"
   ]
  }
 ],
 "metadata": {
  "kernelspec": {
   "display_name": "base",
   "language": "python",
   "name": "python3"
  },
  "language_info": {
   "codemirror_mode": {
    "name": "ipython",
    "version": 3
   },
   "file_extension": ".py",
   "mimetype": "text/x-python",
   "name": "python",
   "nbconvert_exporter": "python",
   "pygments_lexer": "ipython3",
   "version": "3.11.10"
  }
 },
 "nbformat": 4,
 "nbformat_minor": 5
}
