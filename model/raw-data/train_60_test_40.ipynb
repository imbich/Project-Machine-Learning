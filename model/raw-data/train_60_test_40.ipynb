{
 "cells": [
  {
   "cell_type": "code",
   "execution_count": 1,
   "id": "ed612cc8",
   "metadata": {},
   "outputs": [],
   "source": [
    "from sklearn.linear_model import LogisticRegression\n",
    "from sklearn.neighbors import KNeighborsClassifier\n",
    "from sklearn.metrics import classification_report, confusion_matrix, accuracy_score\n",
    "from sklearn.metrics import ConfusionMatrixDisplay\n",
    "from sklearn.model_selection import train_test_split\n",
    "from sklearn.preprocessing import StandardScaler\n",
    "\n",
    "import pandas as pd\n",
    "import numpy as np\n",
    "import matplotlib.pyplot as plt\n",
    "import seaborn as sns"
   ]
  },
  {
   "cell_type": "code",
   "execution_count": 2,
   "id": "5e476458",
   "metadata": {},
   "outputs": [],
   "source": [
    "df = pd.read_csv(r'C:\\Users\\NGUYEN PHUONG BICH\\HOC_TAP\\Machine_Learning\\Project_ML\\data\\dataset.csv')\n",
    "df.rename(columns = {'Nacionality':'Nationality'}, inplace = True)\n",
    "df['Target'] = df['Target'].map({\n",
    "    'Dropout':0,\n",
    "    'Enrolled':1,\n",
    "    'Graduate':2\n",
    "})\n",
    "\n",
    "data = df.drop(['Target'], axis = 1)\n",
    "label = df['Target']"
   ]
  },
  {
   "cell_type": "code",
   "execution_count": 3,
   "id": "347e73d9",
   "metadata": {},
   "outputs": [],
   "source": [
    "# Chia dữ liệu\n",
    "X_train, X_val, y_train, y_val = train_test_split(data, label, test_size=0.4, random_state=0)\n",
    "\n",
    "scaler = StandardScaler()\n",
    "X_train_scaled = scaler.fit_transform(X_train)\n",
    "X_val_scaled = scaler.transform(X_val)"
   ]
  },
  {
   "cell_type": "code",
   "execution_count": 4,
   "id": "ec99a814",
   "metadata": {},
   "outputs": [
    {
     "name": "stdout",
     "output_type": "stream",
     "text": [
      "KNN Classifier\n",
      "Train Accuracy: 0.74\n",
      "Train Classification Report:\n",
      "               precision    recall  f1-score   support\n",
      "\n",
      "           0       0.88      0.67      0.76       834\n",
      "           1       0.57      0.24      0.33       486\n",
      "           2       0.71      0.97      0.82      1334\n",
      "\n",
      "    accuracy                           0.74      2654\n",
      "   macro avg       0.72      0.63      0.64      2654\n",
      "weighted avg       0.74      0.74      0.71      2654\n",
      "\n",
      "Validation Accuracy: 0.71\n",
      "Validation Classification Report:\n",
      "               precision    recall  f1-score   support\n",
      "\n",
      "           0       0.84      0.61      0.71       587\n",
      "           1       0.45      0.20      0.28       308\n",
      "           2       0.69      0.95      0.80       875\n",
      "\n",
      "    accuracy                           0.71      1770\n",
      "   macro avg       0.66      0.59      0.59      1770\n",
      "weighted avg       0.70      0.71      0.68      1770\n",
      "\n"
     ]
    }
   ],
   "source": [
    "# Mô hình phân loại KNN\n",
    "knn = KNeighborsClassifier(n_neighbors=15)\n",
    "knn.fit(X_train_scaled, y_train)\n",
    "\n",
    "print(\"KNN Classifier\")\n",
    "\n",
    "# Đánh giá trên tập train\n",
    "y_train_pred = knn.predict(X_train_scaled)\n",
    "print(\"Train Accuracy:\", round(accuracy_score(y_train, y_train_pred), 2))\n",
    "print(\"Train Classification Report:\\n\", classification_report(y_train, y_train_pred))\n",
    "\n",
    "# Đánh giá trên tập validation\n",
    "y_val_pred = knn.predict(X_val_scaled)\n",
    "print(\"Validation Accuracy:\", round(accuracy_score(y_val, y_val_pred), 2))\n",
    "print(\"Validation Classification Report:\\n\", classification_report(y_val, y_val_pred))\n"
   ]
  },
  {
   "cell_type": "code",
   "execution_count": 5,
   "id": "f2329812",
   "metadata": {},
   "outputs": [
    {
     "name": "stdout",
     "output_type": "stream",
     "text": [
      "Logistic Regression Classifier\n",
      "Train Accuracy: 0.78\n",
      "Train Classification Report:\n",
      "               precision    recall  f1-score   support\n",
      "\n",
      "           0       0.83      0.79      0.81       834\n",
      "           1       0.58      0.35      0.44       486\n",
      "           2       0.79      0.93      0.86      1334\n",
      "\n",
      "    accuracy                           0.78      2654\n",
      "   macro avg       0.73      0.69      0.70      2654\n",
      "weighted avg       0.76      0.78      0.76      2654\n",
      "\n",
      "Validation Accuracy: 0.76\n",
      "Validation Classification Report:\n",
      "               precision    recall  f1-score   support\n",
      "\n",
      "           0       0.83      0.75      0.78       587\n",
      "           1       0.50      0.33      0.40       308\n",
      "           2       0.79      0.93      0.85       875\n",
      "\n",
      "    accuracy                           0.76      1770\n",
      "   macro avg       0.70      0.67      0.68      1770\n",
      "weighted avg       0.75      0.76      0.75      1770\n",
      "\n"
     ]
    }
   ],
   "source": [
    "# Softmax regression\n",
    "log_reg = LogisticRegression(max_iter=5000, random_state=0)\n",
    "log_reg.fit(X_train, y_train)\n",
    "\n",
    "print(\"Logistic Regression Classifier\")\n",
    "\n",
    "# Đánh giá trên tập train\n",
    "y_train_pred = log_reg.predict(X_train)\n",
    "print(\"Train Accuracy:\", round(accuracy_score(y_train, y_train_pred), 2))\n",
    "print(\"Train Classification Report:\\n\", classification_report(y_train, y_train_pred))\n",
    "\n",
    "# Đánh giá trên tập validation\n",
    "y_val_pred = log_reg.predict(X_val)\n",
    "print(\"Validation Accuracy:\", round(accuracy_score(y_val, y_val_pred), 2))\n",
    "print(\"Validation Classification Report:\\n\", classification_report(y_val, y_val_pred))"
   ]
  }
 ],
 "metadata": {
  "kernelspec": {
   "display_name": "base",
   "language": "python",
   "name": "python3"
  },
  "language_info": {
   "codemirror_mode": {
    "name": "ipython",
    "version": 3
   },
   "file_extension": ".py",
   "mimetype": "text/x-python",
   "name": "python",
   "nbconvert_exporter": "python",
   "pygments_lexer": "ipython3",
   "version": "3.11.10"
  }
 },
 "nbformat": 4,
 "nbformat_minor": 5
}
