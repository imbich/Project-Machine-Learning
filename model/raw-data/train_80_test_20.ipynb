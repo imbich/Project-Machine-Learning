{
 "cells": [
  {
   "cell_type": "code",
   "execution_count": 8,
   "id": "f2c1847d",
   "metadata": {},
   "outputs": [],
   "source": [
    "from sklearn.linear_model import LogisticRegression\n",
    "from sklearn.neighbors import KNeighborsClassifier\n",
    "from sklearn.metrics import classification_report, confusion_matrix, accuracy_score\n",
    "from sklearn.metrics import ConfusionMatrixDisplay\n",
    "from sklearn.model_selection import train_test_split\n",
    "from sklearn.preprocessing import StandardScaler\n",
    "\n",
    "import pandas as pd\n",
    "import numpy as np\n",
    "import matplotlib.pyplot as plt\n",
    "import seaborn as sns"
   ]
  },
  {
   "cell_type": "code",
   "execution_count": 9,
   "id": "8679b7c0",
   "metadata": {},
   "outputs": [],
   "source": [
    "df = pd.read_csv(r'C:\\Users\\NGUYEN PHUONG BICH\\HOC_TAP\\Machine_Learning\\Project_ML\\data\\dataset.csv')\n",
    "df.rename(columns = {'Nacionality':'Nationality'}, inplace = True)\n",
    "df['Target'] = df['Target'].map({\n",
    "    'Dropout':0,\n",
    "    'Enrolled':1,\n",
    "    'Graduate':2\n",
    "})\n",
    "\n",
    "data = df.drop(['Target'], axis = 1)\n",
    "label = df['Target']"
   ]
  },
  {
   "cell_type": "code",
   "execution_count": 10,
   "id": "816a931e",
   "metadata": {},
   "outputs": [],
   "source": [
    "# chia dữ liệu thành train và test\n",
    "X_train, X_val, y_train, y_val = train_test_split(data, label, test_size=0.2, random_state=1)\n",
    "\n",
    "# Chuẩn hóa\n",
    "scaler = StandardScaler()\n",
    "X_train_raw = scaler.fit_transform(X_train)\n",
    "X_val_raw = scaler.transform(X_val)"
   ]
  },
  {
   "cell_type": "code",
   "execution_count": 11,
   "id": "d9568688",
   "metadata": {},
   "outputs": [
    {
     "name": "stdout",
     "output_type": "stream",
     "text": [
      "KNN Classifier\n",
      "Train Accuracy: 0.75\n",
      "Train Classification Report:\n",
      "               precision    recall  f1-score   support\n",
      "\n",
      "           0       0.87      0.68      0.76      1147\n",
      "           1       0.59      0.26      0.36       627\n",
      "           2       0.72      0.96      0.82      1765\n",
      "\n",
      "    accuracy                           0.75      3539\n",
      "   macro avg       0.73      0.63      0.65      3539\n",
      "weighted avg       0.74      0.75      0.72      3539\n",
      "\n",
      "Validation Accuracy: 0.72\n",
      "Validation Classification Report:\n",
      "               precision    recall  f1-score   support\n",
      "\n",
      "           0       0.84      0.64      0.73       274\n",
      "           1       0.54      0.21      0.30       167\n",
      "           2       0.69      0.95      0.80       444\n",
      "\n",
      "    accuracy                           0.72       885\n",
      "   macro avg       0.69      0.60      0.61       885\n",
      "weighted avg       0.71      0.72      0.68       885\n",
      "\n"
     ]
    }
   ],
   "source": [
    "# Mô hình phân loại KNN\n",
    "knn = KNeighborsClassifier(n_neighbors=15)\n",
    "knn.fit(X_train_raw, y_train)\n",
    "\n",
    "print(\"KNN Classifier\")\n",
    "\n",
    "# Đánh giá trên tập train\n",
    "y_train_pred = knn.predict(X_train_raw)\n",
    "print(\"Train Accuracy:\", round(accuracy_score(y_train, y_train_pred), 2))\n",
    "print(\"Train Classification Report:\\n\", classification_report(y_train, y_train_pred))\n",
    "\n",
    "# Đánh giá trên tập validation\n",
    "y_val_pred = knn.predict(X_val_raw)\n",
    "print(\"Validation Accuracy:\", round(accuracy_score(y_val, y_val_pred), 2))\n",
    "print(\"Validation Classification Report:\\n\", classification_report(y_val, y_val_pred))"
   ]
  },
  {
   "cell_type": "code",
   "execution_count": 12,
   "id": "2b87f9fc",
   "metadata": {},
   "outputs": [
    {
     "data": {
      "image/png": "[encoded data removed]",
      "text/plain": [
       "<Figure size 800x600 with 2 Axes>"
      ]
     },
     "metadata": {},
     "output_type": "display_data"
    }
   ],
   "source": [
    "# Confusion Matrix KNN\n",
    "# Tính confusion matrix\n",
    "cm = confusion_matrix(y_val, y_val_pred)\n",
    "\n",
    "# Vẽ heatmap với lưới ô vuông\n",
    "plt.figure(figsize=(8, 6))\n",
    "sns.heatmap(cm, annot=True, fmt='d', cmap='Blues', linewidths=0.5, square=True,\n",
    "            xticklabels=np.unique(y_val), yticklabels=np.unique(y_val))\n",
    "\n",
    "plt.xlabel('Nhãn dự đoán')\n",
    "plt.ylabel('Nhãn thực tế')\n",
    "plt.title('KNN - Ma trận nhầm lẫn - Dữ liệu gốc (4:1)')\n",
    "plt.tight_layout()\n",
    "plt.show()\n"
   ]
  },
  {
   "cell_type": "code",
   "execution_count": null,
   "id": "204de5dd",
   "metadata": {},
   "outputs": [],
   "source": [
    "# Softmax regression\n",
    "log_reg = LogisticRegression(max_iter=5000, random_state=0)\n",
    "log_reg.fit(X_train, y_train)\n",
    "\n",
    "print(\"Logistic Regression Classifier\")\n",
    "\n",
    "# Đánh giá trên tập train\n",
    "y_train_pred = log_reg.predict(X_train)\n",
    "print(\"Train Accuracy:\", round(accuracy_score(y_train, y_train_pred), 2))\n",
    "print(\"Train Classification Report:\\n\", classification_report(y_train, y_train_pred))\n",
    "\n",
    "# Đánh giá trên tập validation\n",
    "y_val_pred = log_reg.predict(X_val)\n",
    "print(\"Validation Accuracy:\", round(accuracy_score(y_val, y_val_pred), 2))\n",
    "print(\"Validation Classification Report:\\n\", classification_report(y_val, y_val_pred))"
   ]
  },
  {
   "cell_type": "code",
   "execution_count": null,
   "id": "336cd535",
   "metadata": {},
   "outputs": [],
   "source": [
    "# Confusion Matrix Logistic Regression\n",
    "# Tính confusion matrix\n",
    "cm = confusion_matrix(y_val, y_val_pred)\n",
    "\n",
    "# Vẽ heatmap với lưới ô vuông\n",
    "plt.figure(figsize=(8, 6))\n",
    "sns.heatmap(cm, annot=True, fmt='d', cmap='Blues', linewidths=0.5, square=True,\n",
    "            xticklabels=np.unique(y_val), yticklabels=np.unique(y_val))\n",
    "\n",
    "plt.xlabel('Nhãn dự đoán')\n",
    "plt.ylabel('Nhãn thực tế')\n",
    "plt.title('Softmax Regression - Ma trận nhầm lẫn - Dữ liệu gốc (4:1)')\n",
    "plt.tight_layout()\n",
    "plt.show()\n"
   ]
  }
 ],
 "metadata": {
  "kernelspec": {
   "display_name": "base",
   "language": "python",
   "name": "python3"
  },
  "language_info": {
   "codemirror_mode": {
    "name": "ipython",
    "version": 3
   },
   "file_extension": ".py",
   "mimetype": "text/x-python",
   "name": "python",
   "nbconvert_exporter": "python",
   "pygments_lexer": "ipython3",
   "version": "3.11.10"
  }
 },
 "nbformat": 4,
 "nbformat_minor": 5
}
