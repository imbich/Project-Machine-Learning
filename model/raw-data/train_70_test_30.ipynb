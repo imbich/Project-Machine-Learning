{
 "cells": [
  {
   "cell_type": "code",
   "execution_count": 1,
   "id": "7a8da09b",
   "metadata": {},
   "outputs": [],
   "source": [
    "from sklearn.linear_model import LogisticRegression\n",
    "from sklearn.neighbors import KNeighborsClassifier\n",
    "from sklearn.metrics import classification_report, confusion_matrix, accuracy_score\n",
    "from sklearn.metrics import ConfusionMatrixDisplay\n",
    "from sklearn.model_selection import train_test_split\n",
    "from sklearn.preprocessing import StandardScaler\n",
    "\n",
    "import pandas as pd\n",
    "import numpy as np\n",
    "import matplotlib.pyplot as plt\n",
    "import seaborn as sns"
   ]
  },
  {
   "cell_type": "code",
   "execution_count": 2,
   "id": "b78cb17b",
   "metadata": {},
   "outputs": [],
   "source": [
    "df = pd.read_csv('https://raw.githubusercontent.com/imbich/Project-Machine-Learning/refs/heads/main/data/dataset.csv')\n",
    "df.rename(columns = {'Nacionality':'Nationality'}, inplace = True)\n",
    "df['Target'] = df['Target'].map({\n",
    "    'Dropout':0,\n",
    "    'Enrolled':1,\n",
    "    'Graduate':2\n",
    "})\n",
    "\n",
    "data = df.drop(['Target'], axis = 1)\n",
    "label = df['Target']"
   ]
  },
  {
   "cell_type": "code",
   "execution_count": 3,
   "id": "a4df285d",
   "metadata": {},
   "outputs": [],
   "source": [
    "# Chia dữ liệu\n",
    "X_train, X_val, y_train, y_val = train_test_split(data, label, test_size=0.3, random_state=0)\n",
    "\n",
    "scaler = StandardScaler()\n",
    "X_train_scaled = scaler.fit_transform(X_train)\n",
    "X_val_scaled = scaler.transform(X_val)"
   ]
  },
  {
   "cell_type": "code",
   "execution_count": 4,
   "id": "87c0ac18",
   "metadata": {},
   "outputs": [
    {
     "name": "stdout",
     "output_type": "stream",
     "text": [
      "KNN Classifier\n",
      "Train Accuracy: 0.74\n",
      "Train Classification Report:\n",
      "               precision    recall  f1-score   support\n",
      "\n",
      "           0       0.88      0.69      0.77       993\n",
      "           1       0.58      0.24      0.34       561\n",
      "           2       0.71      0.96      0.82      1542\n",
      "\n",
      "    accuracy                           0.74      3096\n",
      "   macro avg       0.73      0.63      0.64      3096\n",
      "weighted avg       0.74      0.74      0.72      3096\n",
      "\n",
      "Validation Accuracy: 0.72\n",
      "Validation Classification Report:\n",
      "               precision    recall  f1-score   support\n",
      "\n",
      "           0       0.82      0.63      0.72       428\n",
      "           1       0.48      0.21      0.30       233\n",
      "           2       0.71      0.95      0.81       667\n",
      "\n",
      "    accuracy                           0.72      1328\n",
      "   macro avg       0.67      0.60      0.61      1328\n",
      "weighted avg       0.70      0.72      0.69      1328\n",
      "\n"
     ]
    }
   ],
   "source": [
    "# Mô hình phân loại KNN\n",
    "knn = KNeighborsClassifier(n_neighbors=15)\n",
    "knn.fit(X_train_scaled, y_train)\n",
    "\n",
    "print(\"KNN Classifier\")\n",
    "\n",
    "# Đánh giá trên tập train\n",
    "y_train_pred = knn.predict(X_train_scaled)\n",
    "print(\"Train Accuracy:\", round(accuracy_score(y_train, y_train_pred), 2))\n",
    "print(\"Train Classification Report:\\n\", classification_report(y_train, y_train_pred))\n",
    "\n",
    "# Đánh giá trên tập validation\n",
    "y_val_pred = knn.predict(X_val_scaled)\n",
    "print(\"Validation Accuracy:\", round(accuracy_score(y_val, y_val_pred), 2))\n",
    "print(\"Validation Classification Report:\\n\", classification_report(y_val, y_val_pred))\n"
   ]
  },
  {
   "cell_type": "code",
   "execution_count": 5,
   "id": "1fa1e3a3",
   "metadata": {},
   "outputs": [
    {
     "name": "stdout",
     "output_type": "stream",
     "text": [
      "Logistic Regression Classifier\n",
      "Train Accuracy: 0.78\n",
      "Train Classification Report:\n",
      "               precision    recall  f1-score   support\n",
      "\n",
      "           0       0.82      0.79      0.80       993\n",
      "           1       0.57      0.33      0.41       561\n",
      "           2       0.79      0.93      0.86      1542\n",
      "\n",
      "    accuracy                           0.78      3096\n",
      "   macro avg       0.73      0.68      0.69      3096\n",
      "weighted avg       0.76      0.78      0.76      3096\n",
      "\n",
      "Validation Accuracy: 0.78\n",
      "Validation Classification Report:\n",
      "               precision    recall  f1-score   support\n",
      "\n",
      "           0       0.81      0.77      0.79       428\n",
      "           1       0.59      0.36      0.44       233\n",
      "           2       0.80      0.94      0.87       667\n",
      "\n",
      "    accuracy                           0.78      1328\n",
      "   macro avg       0.73      0.69      0.70      1328\n",
      "weighted avg       0.77      0.78      0.77      1328\n",
      "\n"
     ]
    }
   ],
   "source": [
    "# Softmax regression\n",
    "log_reg = LogisticRegression(max_iter=5000, random_state=0)\n",
    "log_reg.fit(X_train, y_train)\n",
    "\n",
    "print(\"Logistic Regression Classifier\")\n",
    "\n",
    "# Đánh giá trên tập train\n",
    "y_train_pred = log_reg.predict(X_train)\n",
    "print(\"Train Accuracy:\", round(accuracy_score(y_train, y_train_pred), 2))\n",
    "print(\"Train Classification Report:\\n\", classification_report(y_train, y_train_pred))\n",
    "\n",
    "# Đánh giá trên tập validation\n",
    "y_val_pred = log_reg.predict(X_val)\n",
    "print(\"Validation Accuracy:\", round(accuracy_score(y_val, y_val_pred), 2))\n",
    "print(\"Validation Classification Report:\\n\", classification_report(y_val, y_val_pred))"
   ]
  }
 ],
 "metadata": {
  "kernelspec": {
   "display_name": "base",
   "language": "python",
   "name": "python3"
  },
  "language_info": {
   "codemirror_mode": {
    "name": "ipython",
    "version": 3
   },
   "file_extension": ".py",
   "mimetype": "text/x-python",
   "name": "python",
   "nbconvert_exporter": "python",
   "pygments_lexer": "ipython3",
   "version": "3.11.10"
  }
 },
 "nbformat": 4,
 "nbformat_minor": 5
}
