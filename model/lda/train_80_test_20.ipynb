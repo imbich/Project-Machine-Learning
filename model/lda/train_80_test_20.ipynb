{
 "cells": [
  {
   "cell_type": "code",
   "execution_count": 1,
   "id": "c3389b37",
   "metadata": {},
   "outputs": [],
   "source": [
    "from sklearn.linear_model import LogisticRegression\n",
    "from sklearn.neighbors import KNeighborsClassifier\n",
    "from sklearn.metrics import classification_report, confusion_matrix, accuracy_score\n",
    "from sklearn.metrics import ConfusionMatrixDisplay\n",
    "from sklearn.model_selection import train_test_split\n",
    "from sklearn.preprocessing import StandardScaler\n",
    "\n",
    "import pandas as pd"
   ]
  },
  {
   "cell_type": "code",
   "execution_count": 2,
   "id": "46e3f837",
   "metadata": {},
   "outputs": [],
   "source": [
    "dataLDA = pd.read_csv('https://raw.githubusercontent.com/imbich/Project-Machine-Learning/refs/heads/main/data/data_processed/data_lda.csv')\n",
    "\n",
    "dataLDA = dataLDA.drop(dataLDA.columns[0], axis=1)\n",
    "\n",
    "data_lda = dataLDA.drop(['Target'], axis = 1)\n",
    "label = dataLDA['Target']\n"
   ]
  },
  {
   "cell_type": "code",
   "execution_count": 3,
   "id": "5ebc9862",
   "metadata": {},
   "outputs": [
    {
     "data": {
      "application/vnd.microsoft.datawrangler.viewer.v0+json": {
       "columns": [
        {
         "name": "index",
         "rawType": "int64",
         "type": "integer"
        },
        {
         "name": "LDA1",
         "rawType": "float64",
         "type": "float"
        },
        {
         "name": "LDA2",
         "rawType": "float64",
         "type": "float"
        }
       ],
       "ref": "e0ced38e-9a03-4eb7-95dd-52926dbd970f",
       "rows": [
        [
         "0",
         "0.4405753936164973",
         "0.0804043220093895"
        ],
        [
         "1",
         "-0.0892408374494489",
         "1.508478287488768"
        ],
        [
         "2",
         "3.047874467153969",
         "2.7824895941763264"
        ],
        [
         "3",
         "-0.4874407220247684",
         "-0.3770083288513017"
        ],
        [
         "4",
         "-1.1916401198221724",
         "0.6487245307793232"
        ],
        [
         "5",
         "-0.0836322883844737",
         "-0.767113480521052"
        ],
        [
         "6",
         "-2.084923640395754",
         "0.8688314288042239"
        ],
        [
         "7",
         "3.3850913955435145",
         "1.4693999560354285"
        ],
        [
         "8",
         "-1.66611239792617",
         "0.0305721756446637"
        ],
        [
         "9",
         "2.1265533935741825",
         "-1.2039429454035986"
        ],
        [
         "10",
         "-0.6698300151581471",
         "0.2084263585443474"
        ],
        [
         "11",
         "-1.7616113911062374",
         "0.9207445546811112"
        ],
        [
         "12",
         "2.492044488828735",
         "1.1444390672946656"
        ],
        [
         "13",
         "-1.296029836173432",
         "0.4143290400326628"
        ],
        [
         "14",
         "-1.2603846361221744",
         "0.7179192725123641"
        ],
        [
         "15",
         "1.8578560218808056",
         "1.3370855006851776"
        ],
        [
         "16",
         "1.794420271677722",
         "-2.463207126528443"
        ],
        [
         "17",
         "-1.604959544418069",
         "0.487033054848315"
        ],
        [
         "18",
         "-0.4815699274889598",
         "-0.7596583393388123"
        ],
        [
         "19",
         "-0.8022215759992353",
         "0.2400594554581338"
        ],
        [
         "20",
         "-0.3137675134615721",
         "0.2595047354072738"
        ],
        [
         "21",
         "-1.5552674878680135",
         "0.1539685236582672"
        ],
        [
         "22",
         "-1.0158180353960349",
         "0.1470124699426414"
        ],
        [
         "23",
         "-1.490665271755062",
         "0.6875514851259821"
        ],
        [
         "24",
         "-1.121129961424302",
         "0.0672726086263997"
        ],
        [
         "25",
         "-0.2648221279163984",
         "-1.0357494369335754"
        ],
        [
         "26",
         "-1.16625497011633",
         "-0.241810174326931"
        ],
        [
         "27",
         "-0.6683175550575187",
         "-0.6582921566755453"
        ],
        [
         "28",
         "-0.9903155304082834",
         "-0.0467278436435924"
        ],
        [
         "29",
         "-0.5294203062069972",
         "0.058051744262734"
        ],
        [
         "30",
         "-0.3876682239934735",
         "-1.71291112242013"
        ],
        [
         "31",
         "-0.1771052127623133",
         "-1.6785938338575097"
        ],
        [
         "32",
         "1.831797509312174",
         "-0.6954041881705717"
        ],
        [
         "33",
         "-1.646302133942422",
         "-0.3415228737726768"
        ],
        [
         "34",
         "-0.4686413692983681",
         "-0.258072325140523"
        ],
        [
         "35",
         "3.454489869412027",
         "0.1263961217071782"
        ],
        [
         "36",
         "2.2045094434841817",
         "2.28510304221082"
        ],
        [
         "37",
         "1.707767326937646",
         "-0.3495880542508122"
        ],
        [
         "38",
         "-0.7716705978303103",
         "-0.0291645725580777"
        ],
        [
         "39",
         "1.6401422081786603",
         "-0.7759598210228336"
        ],
        [
         "40",
         "2.11212657706226",
         "1.1561356662347797"
        ],
        [
         "41",
         "-1.0082931287158132",
         "-0.2723401976442949"
        ],
        [
         "42",
         "-0.4905653615163183",
         "-0.1224181198493191"
        ],
        [
         "43",
         "0.6002737635449715",
         "0.6452448005993808"
        ],
        [
         "44",
         "2.180118716620272",
         "1.6165794451774615"
        ],
        [
         "45",
         "0.8192596592823925",
         "-1.995674846108694"
        ],
        [
         "46",
         "-0.9191214511935712",
         "-0.4862973437702471"
        ],
        [
         "47",
         "-1.2024302612006812",
         "0.8770877790959113"
        ],
        [
         "48",
         "-1.6973039771507643",
         "0.0665702354064917"
        ],
        [
         "49",
         "-1.618903995736278",
         "0.4410471456775907"
        ]
       ],
       "shape": {
        "columns": 2,
        "rows": 4424
       }
      },
      "text/html": [
       "<div>\n",
       "<style scoped>\n",
       "    .dataframe tbody tr th:only-of-type {\n",
       "        vertical-align: middle;\n",
       "    }\n",
       "\n",
       "    .dataframe tbody tr th {\n",
       "        vertical-align: top;\n",
       "    }\n",
       "\n",
       "    .dataframe thead th {\n",
       "        text-align: right;\n",
       "    }\n",
       "</style>\n",
       "<table border=\"1\" class=\"dataframe\">\n",
       "  <thead>\n",
       "    <tr style=\"text-align: right;\">\n",
       "      <th></th>\n",
       "      <th>LDA1</th>\n",
       "      <th>LDA2</th>\n",
       "    </tr>\n",
       "  </thead>\n",
       "  <tbody>\n",
       "    <tr>\n",
       "      <th>0</th>\n",
       "      <td>0.440575</td>\n",
       "      <td>0.080404</td>\n",
       "    </tr>\n",
       "    <tr>\n",
       "      <th>1</th>\n",
       "      <td>-0.089241</td>\n",
       "      <td>1.508478</td>\n",
       "    </tr>\n",
       "    <tr>\n",
       "      <th>2</th>\n",
       "      <td>3.047874</td>\n",
       "      <td>2.782490</td>\n",
       "    </tr>\n",
       "    <tr>\n",
       "      <th>3</th>\n",
       "      <td>-0.487441</td>\n",
       "      <td>-0.377008</td>\n",
       "    </tr>\n",
       "    <tr>\n",
       "      <th>4</th>\n",
       "      <td>-1.191640</td>\n",
       "      <td>0.648725</td>\n",
       "    </tr>\n",
       "    <tr>\n",
       "      <th>...</th>\n",
       "      <td>...</td>\n",
       "      <td>...</td>\n",
       "    </tr>\n",
       "    <tr>\n",
       "      <th>4419</th>\n",
       "      <td>-0.220429</td>\n",
       "      <td>-0.193964</td>\n",
       "    </tr>\n",
       "    <tr>\n",
       "      <th>4420</th>\n",
       "      <td>2.071331</td>\n",
       "      <td>0.431933</td>\n",
       "    </tr>\n",
       "    <tr>\n",
       "      <th>4421</th>\n",
       "      <td>1.386229</td>\n",
       "      <td>0.569438</td>\n",
       "    </tr>\n",
       "    <tr>\n",
       "      <th>4422</th>\n",
       "      <td>-1.374057</td>\n",
       "      <td>0.623729</td>\n",
       "    </tr>\n",
       "    <tr>\n",
       "      <th>4423</th>\n",
       "      <td>-1.461665</td>\n",
       "      <td>0.297156</td>\n",
       "    </tr>\n",
       "  </tbody>\n",
       "</table>\n",
       "<p>4424 rows × 2 columns</p>\n",
       "</div>"
      ],
      "text/plain": [
       "          LDA1      LDA2\n",
       "0     0.440575  0.080404\n",
       "1    -0.089241  1.508478\n",
       "2     3.047874  2.782490\n",
       "3    -0.487441 -0.377008\n",
       "4    -1.191640  0.648725\n",
       "...        ...       ...\n",
       "4419 -0.220429 -0.193964\n",
       "4420  2.071331  0.431933\n",
       "4421  1.386229  0.569438\n",
       "4422 -1.374057  0.623729\n",
       "4423 -1.461665  0.297156\n",
       "\n",
       "[4424 rows x 2 columns]"
      ]
     },
     "execution_count": 3,
     "metadata": {},
     "output_type": "execute_result"
    }
   ],
   "source": [
    "data_lda"
   ]
  },
  {
   "cell_type": "code",
   "execution_count": 4,
   "id": "870c0f07",
   "metadata": {},
   "outputs": [],
   "source": [
    "# chia dữ liệu thành train và test\n",
    "X_train_lda, X_val_lda, y_train, y_val = train_test_split(data_lda, label, test_size=0.2, random_state=3)"
   ]
  },
  {
   "cell_type": "code",
   "execution_count": 5,
   "id": "fd6a3cef",
   "metadata": {},
   "outputs": [
    {
     "name": "stdout",
     "output_type": "stream",
     "text": [
      "KNN Classifier\n",
      "Train Accuracy: 0.79\n",
      "Train Classification Report:\n",
      "               precision    recall  f1-score   support\n",
      "\n",
      "           0       0.84      0.79      0.82      1161\n",
      "           1       0.59      0.42      0.49       632\n",
      "           2       0.80      0.92      0.86      1746\n",
      "\n",
      "    accuracy                           0.79      3539\n",
      "   macro avg       0.75      0.71      0.72      3539\n",
      "weighted avg       0.78      0.79      0.78      3539\n",
      "\n",
      "Validation Accuracy: 0.75\n",
      "Validation Classification Report:\n",
      "               precision    recall  f1-score   support\n",
      "\n",
      "           0       0.81      0.73      0.77       260\n",
      "           1       0.43      0.33      0.38       162\n",
      "           2       0.81      0.92      0.86       463\n",
      "\n",
      "    accuracy                           0.75       885\n",
      "   macro avg       0.68      0.66      0.67       885\n",
      "weighted avg       0.74      0.75      0.74       885\n",
      "\n"
     ]
    }
   ],
   "source": [
    "# Mô hình phân loại KNN\n",
    "knn = KNeighborsClassifier(n_neighbors=15)\n",
    "knn.fit(X_train_lda, y_train)\n",
    "\n",
    "print(\"KNN Classifier\")\n",
    "\n",
    "# Đánh giá trên tập train\n",
    "y_train_pred = knn.predict(X_train_lda)\n",
    "print(\"Train Accuracy:\", round(accuracy_score(y_train, y_train_pred), 2))\n",
    "print(\"Train Classification Report:\\n\", classification_report(y_train, y_train_pred))\n",
    "\n",
    "# Đánh giá trên tập validation\n",
    "y_val_pred = knn.predict(X_val_lda)\n",
    "print(\"Validation Accuracy:\", round(accuracy_score(y_val, y_val_pred), 2))\n",
    "print(\"Validation Classification Report:\\n\", classification_report(y_val, y_val_pred))\n"
   ]
  },
  {
   "cell_type": "code",
   "execution_count": 6,
   "id": "240e8fce",
   "metadata": {},
   "outputs": [
    {
     "name": "stdout",
     "output_type": "stream",
     "text": [
      "Logistic Regression Classifier\n",
      "Train Accuracy: 0.77\n",
      "Train Classification Report:\n",
      "               precision    recall  f1-score   support\n",
      "\n",
      "           0       0.81      0.79      0.80      1161\n",
      "           1       0.56      0.34      0.42       632\n",
      "           2       0.79      0.92      0.85      1746\n",
      "\n",
      "    accuracy                           0.77      3539\n",
      "   macro avg       0.72      0.68      0.69      3539\n",
      "weighted avg       0.76      0.77      0.76      3539\n",
      "\n",
      "Validation Accuracy: 0.75\n",
      "Validation Classification Report:\n",
      "               precision    recall  f1-score   support\n",
      "\n",
      "           0       0.79      0.72      0.75       260\n",
      "           1       0.45      0.30      0.36       162\n",
      "           2       0.80      0.93      0.86       463\n",
      "\n",
      "    accuracy                           0.75       885\n",
      "   macro avg       0.68      0.65      0.66       885\n",
      "weighted avg       0.73      0.75      0.74       885\n",
      "\n"
     ]
    }
   ],
   "source": [
    "# Softmax regression\n",
    "log_reg = LogisticRegression(max_iter=5000, random_state=0)\n",
    "log_reg.fit(X_train_lda, y_train)\n",
    "\n",
    "print(\"Logistic Regression Classifier\")\n",
    "\n",
    "# Đánh giá trên tập train\n",
    "y_train_pred = log_reg.predict(X_train_lda)\n",
    "print(\"Train Accuracy:\", round(accuracy_score(y_train, y_train_pred), 2))\n",
    "print(\"Train Classification Report:\\n\", classification_report(y_train, y_train_pred))\n",
    "\n",
    "# Đánh giá trên tập validation\n",
    "y_val_pred = log_reg.predict(X_val_lda)\n",
    "print(\"Validation Accuracy:\", round(accuracy_score(y_val, y_val_pred), 2))\n",
    "print(\"Validation Classification Report:\\n\", classification_report(y_val, y_val_pred))"
   ]
  }
 ],
 "metadata": {
  "kernelspec": {
   "display_name": "base",
   "language": "python",
   "name": "python3"
  },
  "language_info": {
   "codemirror_mode": {
    "name": "ipython",
    "version": 3
   },
   "file_extension": ".py",
   "mimetype": "text/x-python",
   "name": "python",
   "nbconvert_exporter": "python",
   "pygments_lexer": "ipython3",
   "version": "3.11.10"
  }
 },
 "nbformat": 4,
 "nbformat_minor": 5
}
