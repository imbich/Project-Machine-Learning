{
 "cells": [
  {
   "cell_type": "code",
   "execution_count": 1,
   "id": "7b2a172a",
   "metadata": {},
   "outputs": [],
   "source": [
    "from sklearn.linear_model import LogisticRegression\n",
    "from sklearn.neighbors import KNeighborsClassifier\n",
    "from sklearn.metrics import classification_report, confusion_matrix, accuracy_score\n",
    "from sklearn.metrics import ConfusionMatrixDisplay\n",
    "from sklearn.model_selection import train_test_split\n",
    "from sklearn.preprocessing import StandardScaler\n",
    "\n",
    "import pandas as pd"
   ]
  },
  {
   "cell_type": "code",
   "execution_count": 2,
   "id": "12691124",
   "metadata": {},
   "outputs": [],
   "source": [
    "dataLDA = pd.read_csv('https://raw.githubusercontent.com/imbich/Project-Machine-Learning/refs/heads/main/data/data_processed/data_lda.csv')\n",
    "\n",
    "dataLDA = dataLDA.drop(dataLDA.columns[0], axis=1)\n",
    "\n",
    "data_lda = dataLDA.drop(['Target'], axis = 1)\n",
    "label = dataLDA['Target']\n"
   ]
  },
  {
   "cell_type": "code",
   "execution_count": 3,
   "id": "2f0ab5bf",
   "metadata": {},
   "outputs": [],
   "source": [
    "# Chia dữ liệu\n",
    "X_train, X_val, y_train, y_val = train_test_split(data_lda, label, test_size=0.4, random_state=43)"
   ]
  },
  {
   "cell_type": "code",
   "execution_count": 4,
   "id": "0d2f79e9",
   "metadata": {},
   "outputs": [
    {
     "name": "stdout",
     "output_type": "stream",
     "text": [
      "KNN Classifier\n",
      "Train Accuracy: 0.79\n",
      "Train Classification Report:\n",
      "               precision    recall  f1-score   support\n",
      "\n",
      "           0       0.83      0.81      0.82       832\n",
      "           1       0.58      0.36      0.45       465\n",
      "           2       0.81      0.93      0.87      1357\n",
      "\n",
      "    accuracy                           0.79      2654\n",
      "   macro avg       0.74      0.70      0.71      2654\n",
      "weighted avg       0.78      0.79      0.78      2654\n",
      "\n",
      "Validation Accuracy: 0.75\n",
      "Validation Classification Report:\n",
      "               precision    recall  f1-score   support\n",
      "\n",
      "           0       0.81      0.77      0.79       589\n",
      "           1       0.50      0.33      0.39       329\n",
      "           2       0.78      0.90      0.84       852\n",
      "\n",
      "    accuracy                           0.75      1770\n",
      "   macro avg       0.69      0.67      0.67      1770\n",
      "weighted avg       0.73      0.75      0.74      1770\n",
      "\n"
     ]
    }
   ],
   "source": [
    "# Mô hình phân loại KNN\n",
    "knn = KNeighborsClassifier(n_neighbors=15)\n",
    "knn.fit(X_train, y_train)\n",
    "\n",
    "print(\"KNN Classifier\")\n",
    "\n",
    "# Đánh giá trên tập train\n",
    "y_train_pred = knn.predict(X_train)\n",
    "print(\"Train Accuracy:\", round(accuracy_score(y_train, y_train_pred), 2))\n",
    "print(\"Train Classification Report:\\n\", classification_report(y_train, y_train_pred))\n",
    "\n",
    "# Đánh giá trên tập validation\n",
    "y_val_pred = knn.predict(X_val)\n",
    "print(\"Validation Accuracy:\", round(accuracy_score(y_val, y_val_pred), 2))\n",
    "print(\"Validation Classification Report:\\n\", classification_report(y_val, y_val_pred))\n"
   ]
  },
  {
   "cell_type": "code",
   "execution_count": 5,
   "id": "16e9e86a",
   "metadata": {},
   "outputs": [
    {
     "name": "stdout",
     "output_type": "stream",
     "text": [
      "Logistic Regression Classifier\n",
      "Train Accuracy: 0.77\n",
      "Train Classification Report:\n",
      "               precision    recall  f1-score   support\n",
      "\n",
      "           0       0.79      0.78      0.79       832\n",
      "           1       0.51      0.29      0.37       465\n",
      "           2       0.80      0.93      0.86      1357\n",
      "\n",
      "    accuracy                           0.77      2654\n",
      "   macro avg       0.70      0.67      0.67      2654\n",
      "weighted avg       0.75      0.77      0.75      2654\n",
      "\n",
      "Validation Accuracy: 0.77\n",
      "Validation Classification Report:\n",
      "               precision    recall  f1-score   support\n",
      "\n",
      "           0       0.82      0.78      0.80       589\n",
      "           1       0.57      0.35      0.43       329\n",
      "           2       0.78      0.92      0.85       852\n",
      "\n",
      "    accuracy                           0.77      1770\n",
      "   macro avg       0.72      0.68      0.69      1770\n",
      "weighted avg       0.75      0.77      0.75      1770\n",
      "\n"
     ]
    }
   ],
   "source": [
    "# Softmax regression\n",
    "log_reg = LogisticRegression(max_iter=5000, random_state=0)\n",
    "log_reg.fit(X_train, y_train)\n",
    "\n",
    "print(\"Logistic Regression Classifier\")\n",
    "\n",
    "# Đánh giá trên tập train\n",
    "y_train_pred = log_reg.predict(X_train)\n",
    "print(\"Train Accuracy:\", round(accuracy_score(y_train, y_train_pred), 2))\n",
    "print(\"Train Classification Report:\\n\", classification_report(y_train, y_train_pred))\n",
    "\n",
    "# Đánh giá trên tập validation\n",
    "y_val_pred = log_reg.predict(X_val)\n",
    "print(\"Validation Accuracy:\", round(accuracy_score(y_val, y_val_pred), 2))\n",
    "print(\"Validation Classification Report:\\n\", classification_report(y_val, y_val_pred))"
   ]
  }
 ],
 "metadata": {
  "kernelspec": {
   "display_name": "base",
   "language": "python",
   "name": "python3"
  },
  "language_info": {
   "codemirror_mode": {
    "name": "ipython",
    "version": 3
   },
   "file_extension": ".py",
   "mimetype": "text/x-python",
   "name": "python",
   "nbconvert_exporter": "python",
   "pygments_lexer": "ipython3",
   "version": "3.11.10"
  }
 },
 "nbformat": 4,
 "nbformat_minor": 5
}
