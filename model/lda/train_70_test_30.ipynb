{
 "cells": [
  {
   "cell_type": "code",
   "execution_count": 1,
   "id": "a76d083a",
   "metadata": {},
   "outputs": [],
   "source": [
    "from sklearn.linear_model import LogisticRegression\n",
    "from sklearn.neighbors import KNeighborsClassifier\n",
    "from sklearn.metrics import classification_report, confusion_matrix, accuracy_score\n",
    "from sklearn.metrics import ConfusionMatrixDisplay\n",
    "from sklearn.model_selection import train_test_split\n",
    "from sklearn.preprocessing import StandardScaler\n",
    "\n",
    "import pandas as pd"
   ]
  },
  {
   "cell_type": "code",
   "execution_count": 2,
   "id": "9ac4ea27",
   "metadata": {},
   "outputs": [],
   "source": [
    "dataLDA = pd.read_csv('https://raw.githubusercontent.com/imbich/Project-Machine-Learning/refs/heads/main/data/data_processed/data_lda.csv')\n",
    "\n",
    "dataLDA = dataLDA.drop(dataLDA.columns[0], axis=1)\n",
    "\n",
    "data_lda = dataLDA.drop(['Target'], axis = 1)\n",
    "label = dataLDA['Target']\n"
   ]
  },
  {
   "cell_type": "code",
   "execution_count": 3,
   "id": "fa994e58",
   "metadata": {},
   "outputs": [],
   "source": [
    "# Chia dữ liệu\n",
    "X_train, X_val, y_train, y_val = train_test_split(data_lda, label, test_size=0.3, random_state=41)"
   ]
  },
  {
   "cell_type": "code",
   "execution_count": 4,
   "id": "d0cd1e00",
   "metadata": {},
   "outputs": [
    {
     "name": "stdout",
     "output_type": "stream",
     "text": [
      "KNN Classifier\n",
      "Train Accuracy: 0.78\n",
      "Train Classification Report:\n",
      "               precision    recall  f1-score   support\n",
      "\n",
      "           0       0.83      0.80      0.81       984\n",
      "           1       0.59      0.40      0.48       568\n",
      "           2       0.80      0.92      0.85      1544\n",
      "\n",
      "    accuracy                           0.78      3096\n",
      "   macro avg       0.74      0.70      0.72      3096\n",
      "weighted avg       0.77      0.78      0.77      3096\n",
      "\n",
      "Validation Accuracy: 0.76\n",
      "Validation Classification Report:\n",
      "               precision    recall  f1-score   support\n",
      "\n",
      "           0       0.85      0.74      0.79       437\n",
      "           1       0.46      0.32      0.38       226\n",
      "           2       0.78      0.92      0.84       665\n",
      "\n",
      "    accuracy                           0.76      1328\n",
      "   macro avg       0.69      0.66      0.67      1328\n",
      "weighted avg       0.75      0.76      0.75      1328\n",
      "\n"
     ]
    }
   ],
   "source": [
    "# Mô hình phân loại KNN\n",
    "knn = KNeighborsClassifier(n_neighbors=15)\n",
    "knn.fit(X_train, y_train)\n",
    "\n",
    "print(\"KNN Classifier\")\n",
    "\n",
    "# Đánh giá trên tập train\n",
    "y_train_pred = knn.predict(X_train)\n",
    "print(\"Train Accuracy:\", round(accuracy_score(y_train, y_train_pred), 2))\n",
    "print(\"Train Classification Report:\\n\", classification_report(y_train, y_train_pred))\n",
    "\n",
    "# Đánh giá trên tập validation\n",
    "y_val_pred = knn.predict(X_val)\n",
    "print(\"Validation Accuracy:\", round(accuracy_score(y_val, y_val_pred), 2))\n",
    "print(\"Validation Classification Report:\\n\", classification_report(y_val, y_val_pred))\n"
   ]
  },
  {
   "cell_type": "code",
   "execution_count": 5,
   "id": "b5017377",
   "metadata": {},
   "outputs": [
    {
     "name": "stdout",
     "output_type": "stream",
     "text": [
      "Logistic Regression Classifier\n",
      "Train Accuracy: 0.77\n",
      "Train Classification Report:\n",
      "               precision    recall  f1-score   support\n",
      "\n",
      "           0       0.81      0.78      0.79       984\n",
      "           1       0.54      0.35      0.43       568\n",
      "           2       0.79      0.92      0.85      1544\n",
      "\n",
      "    accuracy                           0.77      3096\n",
      "   macro avg       0.71      0.68      0.69      3096\n",
      "weighted avg       0.75      0.77      0.75      3096\n",
      "\n",
      "Validation Accuracy: 0.77\n",
      "Validation Classification Report:\n",
      "               precision    recall  f1-score   support\n",
      "\n",
      "           0       0.83      0.76      0.79       437\n",
      "           1       0.51      0.31      0.39       226\n",
      "           2       0.79      0.94      0.86       665\n",
      "\n",
      "    accuracy                           0.77      1328\n",
      "   macro avg       0.71      0.67      0.68      1328\n",
      "weighted avg       0.76      0.77      0.76      1328\n",
      "\n"
     ]
    }
   ],
   "source": [
    "# Softmax regression\n",
    "log_reg = LogisticRegression(max_iter=5000, random_state=0)\n",
    "log_reg.fit(X_train, y_train)\n",
    "\n",
    "print(\"Logistic Regression Classifier\")\n",
    "\n",
    "# Đánh giá trên tập train\n",
    "y_train_pred = log_reg.predict(X_train)\n",
    "print(\"Train Accuracy:\", round(accuracy_score(y_train, y_train_pred), 2))\n",
    "print(\"Train Classification Report:\\n\", classification_report(y_train, y_train_pred))\n",
    "\n",
    "# Đánh giá trên tập validation\n",
    "y_val_pred = log_reg.predict(X_val)\n",
    "print(\"Validation Accuracy:\", round(accuracy_score(y_val, y_val_pred), 2))\n",
    "print(\"Validation Classification Report:\\n\", classification_report(y_val, y_val_pred))"
   ]
  }
 ],
 "metadata": {
  "kernelspec": {
   "display_name": "base",
   "language": "python",
   "name": "python3"
  },
  "language_info": {
   "codemirror_mode": {
    "name": "ipython",
    "version": 3
   },
   "file_extension": ".py",
   "mimetype": "text/x-python",
   "name": "python",
   "nbconvert_exporter": "python",
   "pygments_lexer": "ipython3",
   "version": "3.11.10"
  }
 },
 "nbformat": 4,
 "nbformat_minor": 5
}
